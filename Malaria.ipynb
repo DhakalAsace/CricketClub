{
  "nbformat": 4,
  "nbformat_minor": 0,
  "metadata": {
    "colab": {
      "provenance": [],
      "authorship_tag": "ABX9TyMrzcBB+KTfE317QeBR5ZVa",
      "include_colab_link": true
    },
    "kernelspec": {
      "name": "python3",
      "display_name": "Python 3"
    },
    "language_info": {
      "name": "python"
    }
  },
  "cells": [
    {
      "cell_type": "markdown",
      "metadata": {
        "id": "view-in-github",
        "colab_type": "text"
      },
      "source": [
        "<a href=\"https://colab.research.google.com/github/DhakalAsace/CricketClub/blob/master/Malaria.ipynb\" target=\"_parent\"><img src=\"https://colab.research.google.com/assets/colab-badge.svg\" alt=\"Open In Colab\"/></a>"
      ]
    },
    {
      "cell_type": "code",
      "execution_count": 15,
      "metadata": {
        "id": "bROr9ji2bX6p"
      },
      "outputs": [],
      "source": [
        "import tensorflow as tf\n",
        "import numpy as np\n",
        "import matplotlib.pyplot as plt\n",
        "import tensorflow_datasets as tfds"
      ]
    },
    {
      "cell_type": "code",
      "source": [
        "dataset, dataset_info=tfds.load('malaria', with_info=True,as_supervised=True, shuffle_files=True,split=['train'])"
      ],
      "metadata": {
        "id": "QaKc0B1we2DX"
      },
      "execution_count": 48,
      "outputs": []
    },
    {
      "cell_type": "code",
      "source": [
        "def splits(dataset, TRAIN_RATIO,VAL_RATIO,TEST_RATIO):\n",
        "  DATASET_SIZE=len(dataset)\n",
        "  train_dataset=dataset.take(int(TRAIN_RATIO*DATASET_SIZE))\n",
        "\n",
        "  val_test_dataset=dataset.skip(int(TRAIN_RATIO*DATASET_SIZE))\n",
        "  val_dataset=val_test_dataset.take(int(VAL_RATIO*DATASET_SIZE))\n",
        "\n",
        "  test_dataset=val_test_dataset.skip(int(VAL_RATIO*DATASET_SIZE))\n",
        "  return train_dataset,val_dataset,test_dataset\n",
        "\n"
      ],
      "metadata": {
        "id": "ZE8BFIagnRb4"
      },
      "execution_count": 49,
      "outputs": []
    },
    {
      "cell_type": "code",
      "source": [
        "\n",
        "TRAIN_RATIO=0.8\n",
        "VAL_RATIO=0.1\n",
        "TEST_RATIO=0.1\n",
        "\n",
        "#dataset=tf.data.Dataset.range(10)\n",
        "train_dataset,val_dataset,test_dataset=splits(dataset[0], TRAIN_RATIO, VAL_RATIO,TEST_RATIO)\n",
        "print(list(train_dataset.take(1).as_numpy_iterator()),\n",
        "      list(val_dataset.take(1).as_numpy_iterator()),\n",
        "      list(test_dataset.take(1).as_numpy_iterator()))\n"
      ],
      "metadata": {
        "id": "mMvjOzJujgVS"
      },
      "execution_count": null,
      "outputs": []
    },
    {
      "cell_type": "code",
      "source": [
        "for data in dataset[0].take(4):\n",
        "  print(data)\n"
      ],
      "metadata": {
        "id": "i5GUtF8yflsl"
      },
      "execution_count": null,
      "outputs": []
    },
    {
      "cell_type": "code",
      "source": [],
      "metadata": {
        "id": "FGs-II94flvG"
      },
      "execution_count": null,
      "outputs": []
    },
    {
      "cell_type": "code",
      "source": [],
      "metadata": {
        "id": "qK4YWmPEflxj"
      },
      "execution_count": null,
      "outputs": []
    },
    {
      "cell_type": "code",
      "source": [],
      "metadata": {
        "id": "NdLSZFJpfl1I"
      },
      "execution_count": null,
      "outputs": []
    }
  ]
}